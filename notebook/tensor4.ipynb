{
 "cells": [
  {
   "cell_type": "code",
   "execution_count": 2,
   "metadata": {},
   "outputs": [],
   "source": [
    "# This code implements callback function\n",
    "# This helps to avoid overfitting of the model"
   ]
  },
  {
   "cell_type": "code",
   "execution_count": 3,
   "metadata": {},
   "outputs": [],
   "source": [
    "import tensorflow as tf"
   ]
  },
  {
   "cell_type": "code",
   "execution_count": 4,
   "metadata": {},
   "outputs": [],
   "source": [
    "class myCallback(tf.keras.callbacks.Callback):\n",
    "    def on_epoch_end(self, epoch, logs={}):\n",
    "        if(logs.get('accuracy')>0.95):\n",
    "            print(\"reached 95% accuracy so cancelling training!\")\n",
    "            self.model.stop_training = True"
   ]
  },
  {
   "cell_type": "code",
   "execution_count": 5,
   "metadata": {},
   "outputs": [],
   "source": [
    "callbacks = myCallback()\n",
    "mnist = tf.keras.datasets.fashion_mnist\n",
    "\n"
   ]
  },
  {
   "cell_type": "code",
   "execution_count": 6,
   "metadata": {},
   "outputs": [],
   "source": [
    "(training_images, training_labels), (test_images, test_labels) = mnist.load_data()\n",
    "training_images = training_images/255\n",
    "test_images = test_images/255\n",
    "\n"
   ]
  },
  {
   "cell_type": "code",
   "execution_count": 7,
   "metadata": {},
   "outputs": [],
   "source": [
    "model = tf.keras.models.Sequential([\n",
    "    tf.keras.layers.Flatten(),\n",
    "    tf.keras.layers.Dense(128, activation=tf.nn.relu),\n",
    "    tf.keras.layers.Dense(10, activation=tf.nn.softmax)\n",
    "])"
   ]
  },
  {
   "cell_type": "code",
   "execution_count": 8,
   "metadata": {},
   "outputs": [],
   "source": [
    "model.compile(optimizer='adam',\n",
    "              loss='sparse_categorical_crossentropy',\n",
    "              metrics = ['accuracy']\n",
    "              )\n",
    "\n"
   ]
  },
  {
   "cell_type": "code",
   "execution_count": 9,
   "metadata": {},
   "outputs": [
    {
     "name": "stdout",
     "output_type": "stream",
     "text": [
      "Epoch 1/50\n",
      "1875/1875 [==============================] - 6s 3ms/step - loss: 0.4989 - accuracy: 0.8243\n",
      "Epoch 2/50\n",
      "1875/1875 [==============================] - 5s 2ms/step - loss: 0.3746 - accuracy: 0.8649\n",
      "Epoch 3/50\n",
      "1875/1875 [==============================] - 4s 2ms/step - loss: 0.3365 - accuracy: 0.8781\n",
      "Epoch 4/50\n",
      "1875/1875 [==============================] - 4s 2ms/step - loss: 0.3135 - accuracy: 0.8853\n",
      "Epoch 5/50\n",
      "1875/1875 [==============================] - 4s 2ms/step - loss: 0.2942 - accuracy: 0.8923\n",
      "Epoch 6/50\n",
      "1875/1875 [==============================] - 4s 2ms/step - loss: 0.2795 - accuracy: 0.8967\n",
      "Epoch 7/50\n",
      "1875/1875 [==============================] - 4s 2ms/step - loss: 0.2669 - accuracy: 0.9010\n",
      "Epoch 8/50\n",
      "1875/1875 [==============================] - 4s 2ms/step - loss: 0.2558 - accuracy: 0.9049\n",
      "Epoch 9/50\n",
      "1875/1875 [==============================] - 4s 2ms/step - loss: 0.2464 - accuracy: 0.9083\n",
      "Epoch 10/50\n",
      "1875/1875 [==============================] - 4s 2ms/step - loss: 0.2356 - accuracy: 0.9129\n",
      "Epoch 11/50\n",
      "1875/1875 [==============================] - 4s 2ms/step - loss: 0.2284 - accuracy: 0.9145\n",
      "Epoch 12/50\n",
      "1875/1875 [==============================] - 4s 2ms/step - loss: 0.2227 - accuracy: 0.9172\n",
      "Epoch 13/50\n",
      "1875/1875 [==============================] - 5s 2ms/step - loss: 0.2154 - accuracy: 0.9189\n",
      "Epoch 14/50\n",
      "1875/1875 [==============================] - 5s 3ms/step - loss: 0.2083 - accuracy: 0.9227\n",
      "Epoch 15/50\n",
      "1875/1875 [==============================] - 11s 6ms/step - loss: 0.2033 - accuracy: 0.9240\n",
      "Epoch 16/50\n",
      "1875/1875 [==============================] - 12s 6ms/step - loss: 0.1958 - accuracy: 0.9264\n",
      "Epoch 17/50\n",
      "1875/1875 [==============================] - 11s 6ms/step - loss: 0.1915 - accuracy: 0.9280\n",
      "Epoch 18/50\n",
      "1875/1875 [==============================] - 11s 6ms/step - loss: 0.1866 - accuracy: 0.9295\n",
      "Epoch 19/50\n",
      "1875/1875 [==============================] - 10s 6ms/step - loss: 0.1806 - accuracy: 0.9323\n",
      "Epoch 20/50\n",
      "1875/1875 [==============================] - 11s 6ms/step - loss: 0.1775 - accuracy: 0.9341\n",
      "Epoch 21/50\n",
      "1875/1875 [==============================] - 11s 6ms/step - loss: 0.1715 - accuracy: 0.9360\n",
      "Epoch 22/50\n",
      "1875/1875 [==============================] - 11s 6ms/step - loss: 0.1702 - accuracy: 0.9353\n",
      "Epoch 23/50\n",
      "1875/1875 [==============================] - 11s 6ms/step - loss: 0.1665 - accuracy: 0.9376\n",
      "Epoch 24/50\n",
      "1875/1875 [==============================] - 11s 6ms/step - loss: 0.1600 - accuracy: 0.9406\n",
      "Epoch 25/50\n",
      "1875/1875 [==============================] - 11s 6ms/step - loss: 0.1568 - accuracy: 0.9409\n",
      "Epoch 26/50\n",
      "1875/1875 [==============================] - 11s 6ms/step - loss: 0.1523 - accuracy: 0.9430\n",
      "Epoch 27/50\n",
      "1875/1875 [==============================] - 10s 6ms/step - loss: 0.1507 - accuracy: 0.9441\n",
      "Epoch 28/50\n",
      "1875/1875 [==============================] - 11s 6ms/step - loss: 0.1471 - accuracy: 0.9458\n",
      "Epoch 29/50\n",
      "1875/1875 [==============================] - 10s 6ms/step - loss: 0.1446 - accuracy: 0.9467\n",
      "Epoch 30/50\n",
      "1875/1875 [==============================] - 11s 6ms/step - loss: 0.1406 - accuracy: 0.9461\n",
      "Epoch 31/50\n",
      "1875/1875 [==============================] - 12s 6ms/step - loss: 0.1364 - accuracy: 0.9492\n",
      "Epoch 32/50\n",
      "1872/1875 [============================>.] - ETA: 0s - loss: 0.1349 - accuracy: 0.9500reached 95% accuracy so cancelling training!\n",
      "1875/1875 [==============================] - 12s 6ms/step - loss: 0.1349 - accuracy: 0.9500\n"
     ]
    },
    {
     "data": {
      "text/plain": [
       "<keras.src.callbacks.History at 0x13b41705d90>"
      ]
     },
     "execution_count": 9,
     "metadata": {},
     "output_type": "execute_result"
    }
   ],
   "source": [
    "model.fit(training_images, training_labels, epochs=50, callbacks=[callbacks])"
   ]
  },
  {
   "cell_type": "code",
   "execution_count": null,
   "metadata": {},
   "outputs": [],
   "source": []
  }
 ],
 "metadata": {
  "kernelspec": {
   "display_name": "Python 3",
   "language": "python",
   "name": "python3"
  },
  "language_info": {
   "codemirror_mode": {
    "name": "ipython",
    "version": 3
   },
   "file_extension": ".py",
   "mimetype": "text/x-python",
   "name": "python",
   "nbconvert_exporter": "python",
   "pygments_lexer": "ipython3",
   "version": "3.8.19"
  }
 },
 "nbformat": 4,
 "nbformat_minor": 2
}
